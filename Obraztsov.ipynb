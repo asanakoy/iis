{
 "metadata": {
  "name": "Obraztsov"
 },
 "nbformat": 3,
 "nbformat_minor": 0,
 "worksheets": [
  {
   "cells": [
    {
     "cell_type": "code",
     "collapsed": false,
     "input": "import json\nimport codecs\nimport sys\nimport Tkinter\nfrom pprint import pprint\n\nclass Expert :\n    baseName = \"\"\n    base = dict()\n    knownData = dict()\n    stack = []\n    hasQuestions_ = false\n\n    def __init__(self, fileName) :\n        with open(fileName, \"r\") as data_file:    \n            data = json.load(data_file, \"utf-8\")\n        print(data)\n        mapData = dict()\n        print len(data[\"data\"])\n        for entry in data[\"data\"] :\n            key = entry[\"THEN\"].keys()[0]\n            if key not in mapData :\n                mapData[key] = []\n            mapData[key].append((entry[\"IF\"], entry[\"THEN\"][key]))\n        print mapData[\"body type\"]\n        self.base = mapData\n        self.baseName = data[\"base_name\"]\n        self.stack.append(data[\"aim\"])\n    \n    def hasQuestions(self) :\n        return hasQuestions_\n    \n    def getNextQuestion(self) :\n        if stack :\n            aim = stack[-1]\n            if aim in knownData :\n                del stack[-1]\n                return\n            else :\n                \n        else :\n            hasQuestions_ = false\n        return\n    \nexp = Expert(\"tmp.json\")\n\nexp.getNextQuestion()\n",
     "language": "python",
     "metadata": {},
     "outputs": [
      {
       "output_type": "stream",
       "stream": "stdout",
       "text": "{u'aim': u'name', u'data': [{u'THEN': {u'name': u'Land Rover Range Rover'}, u'IF': {u'wheels count': u'4', u'Manufacturer': u'LandRover'}}, {u'THEN': {u'name': u'Ford Mustang'}, u'IF': {u'wheels count': u'4', u'Manufacturer': u'Ford'}}, {u'THEN': {u'body type': u'Coupe'}, u'IF': {u'high cross-country ability': u'No', u'doors count': u'5'}}, {u'THEN': {u'body type': u'sport utility vehicle'}, u'IF': {u'high cross-country ability': u'Yes'}}, {u'THEN': {u'class': u'Passenger car'}, u'IF': {u'body type': u'Coupe'}}, {u'THEN': {u'class': u'Passenger car'}, u'IF': {u'body type': u'sport utility vehicle'}}, {u'THEN': {u'class': u'Passenger car'}, u'IF': {u'seats count': u'from 4 to 8', u'body type': u'\\u0441\\u0435\\u0434\\u0430\\u043d'}}, {u'THEN': {u'class': u'Bus'}, u'IF': {u'seats count': u'more than 8'}}, {u'THEN': {u'class': u'truck'}, u'IF': {u'seats count': u'less than 4', u'carrying capacity': u'> 2 tons'}}, {u'THEN': {u'wheels count': u'4'}, u'IF': {u'class': u'Passenger car'}}, {u'THEN': {u'class': u'truck'}, u'IF': {u'seats count': u'less than 4', u'carrying capacity': u'> 2 tons'}}], u'base_name': u'Cars'}\n11\n[({u'high cross-country ability': u'No', u'doors count': u'5'}, u'Coupe'), ({u'high cross-country ability': u'Yes'}, u'sport utility vehicle')]\n"
      }
     ],
     "prompt_number": 82
    },
    {
     "cell_type": "code",
     "collapsed": false,
     "input": "import easygui as eg\nimport sys\n\ntitle = \"Message from test1.py\"\neg.msgbox(\"Hello, world!\", title)\nwhile 1:\n    \n\n    msg =\"What is your favorite flavor?\"\n    title = \"Ice Cream Survey\"\n    choices = [\"Vanilla\", \"Chocolate\", \"Strawberry\", \"Rocky Road\"]\n    choice = eg.choicebox(msg, title, choices)\n\n    # note that we convert choice to string, in case\n    # the user cancelled the choice, and we got None.\n    #eg.msgbox(\"You chose: \" + str(choice), \"Survey Result\")\n\n    #msg = \"Do you want to continue?\"\n    #title = \"Please Confirm\"\n    if choice:     # show a Continue/Cancel dialog\n        pass  # user chose Continue\n    else:\n        sys.exit(0)           # user chose Cancel",
     "language": "python",
     "metadata": {},
     "outputs": [
      {
       "ename": "SystemExit",
       "evalue": "0",
       "output_type": "pyerr",
       "traceback": [
        "An exception has occurred, use %tb to see the full traceback.\n",
        "\u001b[0;31mSystemExit\u001b[0m\u001b[0;31m:\u001b[0m 0\n"
       ]
      },
      {
       "output_type": "stream",
       "stream": "stderr",
       "text": "To exit: use 'exit', 'quit', or Ctrl-D."
      }
     ],
     "prompt_number": 45
    },
    {
     "cell_type": "code",
     "collapsed": false,
     "input": "from Tkinter import *\nimport ttk\n\nclass App:\n\n    value_of_combo = 'X'\n\n\n    def __init__(self, parent):\n        self.parent = parent\n        self.combo()\n        \n    def newselection(self, event):\n        self.value_of_combo = self.box.get()\n        print(self.value_of_combo)\n\n    def combo(self):\n        self.box_value = StringVar()\n        self.box = ttk.Combobox(self.parent, textvariable=self.box_value)\n        self.box.bind(\"<<ComboboxSelected>>\", self.newselection)\n        self.box['values'] = ('X', 'Y', 'Z')\n        self.box.current(0)\n        self.box.grid(column=0, row=0)\n\nif __name__ == '__main__':\n    root = Tk()\n    app = App(root)\n    root.mainloop()\n",
     "language": "python",
     "metadata": {},
     "outputs": [],
     "prompt_number": 47
    },
    {
     "cell_type": "code",
     "collapsed": false,
     "input": "",
     "language": "python",
     "metadata": {},
     "outputs": []
    }
   ],
   "metadata": {}
  }
 ]
}