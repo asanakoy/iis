{
 "metadata": {
  "name": "Obraztsov"
 },
 "nbformat": 3,
 "nbformat_minor": 0,
 "worksheets": [
  {
   "cells": [
    {
     "cell_type": "code",
     "collapsed": false,
     "input": "import json\nimport codecs\nimport sys\nimport Tkinter\nimport easygui as eg\nfrom pprint import pprint\n\ndef getDictVal(dictionary, key) :\n    if key not in dictionary :\n        return None\n    return dictionary[key]\n\nclass Expert :\n    mainAim = \"\"\n    baseName = \"\"\n    rules = dict()\n    answerVariants = dict()\n    knownData = dict()\n    aimStack = []\n    rulesStack = []\n    hasQuestions_ = False\n    \n    def addAnswerVariant(self, key, answerVariant) :\n        if key not in self.answerVariants :\n            self.answerVariants[key] = set()\n        self.answerVariants[key].add(answerVariant)\n    \n    def __init__(self, fileName) :\n        with open(fileName, \"r\") as data_file:    \n            data = json.load(data_file, \"utf-8\")\n        #print(data)\n        mapData = dict()\n        print len(data[\"data\"])\n        for entry in data[\"data\"] :\n            key = entry[\"THEN\"].keys()[0]\n            if key not in mapData :\n                mapData[key] = []\n            mapData[key].append((entry[\"IF\"], entry[\"THEN\"][key]))\n            self.addAnswerVariant(key, entry[\"THEN\"][key])\n            for key_, answerVariant in entry[\"IF\"].items() :\n                self.addAnswerVariant(key_, answerVariant)\n        #print mapData[\"body type\"]\n        self.rules = mapData\n        self.baseName = data[\"base_name\"]\n        self.mainAim = data[\"aim\"]\n        self.aimStack.append(self.mainAim)\n    \n    def hasQuestions(self) :\n        return self.hasQuestions_\n        \n    def getQuestion(self, aim) :\n        msg =\"Choose %s :\" % aim\n        if aim == self.mainAim :\n            self.knownData[aim] = None\n            print \"[LOG] Don't know\"\n            return False\n        choice = eg.choicebox(msg, self.baseName, list(self.answerVariants[aim]))\n        #eg.msgbox(\"You chose: \" + str(choice), \"Survey Result\")\n        \n        if choice:     # show a Continue/Cancel dialog\n            self.setAnswer(aim, str(choice))\n        else:\n            sys.exit(0)           # user chose Cancel\n        return True\n\n    def getNextQuestion(self) :\n        while self.aimStack :\n            print \"aimStack top:\",  self.aimStack\n            try:\n                print \"rulesStack top:\", self.rulesStack[-1][1][0] \n            except (IndexError, TypeError): \n                print \"rulesStack top: []\"\n            \n\n                \n            aim = self.aimStack[-1]\n            if aim in self.knownData :\n                del self.aimStack[-1]\n                if self.rulesStack[-1][0] == aim :\n                    del self.rulesStack[-1]\n            else :\n                if not  self.rulesStack or self.rulesStack[-1][0] != aim :\n                    self.rulesStack.append((aim, getDictVal(self.rules, aim)))\n                \n                if not self.rulesStack[-1][1] :\n                        return self.getQuestion(aim)\n                flagContinue = False\n                for key, val in self.rulesStack[-1][1][0][0].items() : \n                    if key in self.knownData and self.knownData[key] != val :\n                        del self.rulesStack[-1][1][0]\n                        print \"FALSE For the top rule. Drop it\"\n                        flagContinue = True\n                        break\n                    if key not in self.knownData :\n                        self.aimStack.append(key)\n                        flagContinue = True\n                        break\n                if flagContinue : \n                    if not self.rulesStack[-1][1]:\n                        return self.getQuestion(self.mainAim)\n                    continue\n                else :\n                    self.setAnswer(aim, self.rulesStack[-1][1][0][1])\n        return None\n    \n    def setAnswer(self, key, value) :\n        self.knownData[key] = value\n        print \"[LOG] Know:\", key, \"=\", self.knownData[key]\n        \n    def GetResult(self) :\n        if not self.knownData[self.mainAim] :\n            return \"Unknown car\"\n        return \"%s is %s\" %(self.mainAim, self.knownData[self.mainAim])\n\ndef main() :\n    exp = Expert(\"tmp.json\")\n    print \"[LOG] expert initialized\"\n    while exp.getNextQuestion() :\n        pass\n    eg.msgbox(msg = exp.GetResult(), title = \"Aknowledgement complete!\")\n\n    \nif __name__ == \"__main__\":\n    main()",
     "language": "python",
     "metadata": {},
     "outputs": [
      {
       "output_type": "stream",
       "stream": "stdout",
       "text": "16\n[LOG] expert initialized\naimStack top: [u'name']\nrulesStack top: rulesStack top: []\naimStack top: [u'name', u'class']\nrulesStack top: ({u'class': u'bus', u'Manufacturer': u'MAN'}, u\"MAN Lion's Regio\")\naimStack top: [u'name', u'class', u'seats count']\nrulesStack top: ({u'seats count': u'from 4 to 8'}, u'Passenger car')\n[LOG] Know:"
      },
      {
       "output_type": "stream",
       "stream": "stdout",
       "text": " seats count = from 4 to 8\naimStack top: [u'name', u'class', u'seats count']\nrulesStack top: rulesStack top: []\naimStack top: [u'name', u'class']\nrulesStack top: ({u'seats count': u'from 4 to 8'}, u'Passenger car')\n[LOG] Know: class = Passenger car\naimStack top: [u'name', u'class']\nrulesStack top: ({u'seats count': u'from 4 to 8'}, u'Passenger car')\naimStack top: [u'name']\nrulesStack top: ({u'class': u'bus', u'Manufacturer': u'MAN'}, u\"MAN Lion's Regio\")\nFALSE For the top rule. Drop it\naimStack top: [u'name']\nrulesStack top: ({u'body type': u'sport utility vehicle', u'Manufacturer': u'Toyota'}, u'Toyota Land Cruiserr')\naimStack top: [u'name', u'body type']\nrulesStack top: ({u'body type': u'sport utility vehicle', u'Manufacturer': u'Toyota'}, u'Toyota Land Cruiserr')\naimStack top: [u'name', u'body type', u'high cross-country ability']\nrulesStack top: ({u'class': u'Passenger car', u'high cross-country ability': u'No', u'doors count': u'5'}, u'Coupe')\n[LOG] Know:"
      },
      {
       "output_type": "stream",
       "stream": "stdout",
       "text": " high cross-country ability = No\naimStack top: [u'name', u'body type', u'high cross-country ability']\nrulesStack top: rulesStack top: []\naimStack top: [u'name', u'body type']\nrulesStack top: ({u'class': u'Passenger car', u'high cross-country ability': u'No', u'doors count': u'5'}, u'Coupe')\naimStack top: [u'name', u'body type', u'doors count']\nrulesStack top: ({u'class': u'Passenger car', u'high cross-country ability': u'No', u'doors count': u'5'}, u'Coupe')\n[LOG] Know:"
      },
      {
       "output_type": "stream",
       "stream": "stdout",
       "text": " doors count = 2\naimStack top: [u'name', u'body type', u'doors count']\nrulesStack top: rulesStack top: []\naimStack top: [u'name', u'body type']\nrulesStack top: ({u'class': u'Passenger car', u'high cross-country ability': u'No', u'doors count': u'5'}, u'Coupe')\nFALSE For the top rule. Drop it\naimStack top: [u'name', u'body type']\nrulesStack top: ({u'class': u'Passenger car', u'high cross-country ability': u'Yes'}, u'sport utility vehicle')\nFALSE For the top rule. Drop it\naimStack top: [u'name', u'body type']\nrulesStack top: ({u'wheels count': u'> 18', u'dagerous freight': u'no', u'class': u'truck', u'doors count': u'2'}, u'dump')\naimStack top: [u'name', u'body type', u'wheels count']\nrulesStack top: ({u'wheels count': u'> 18', u'dagerous freight': u'no', u'class': u'truck', u'doors count': u'2'}, u'dump')\n[LOG] Know:"
      },
      {
       "output_type": "stream",
       "stream": "stdout",
       "text": " wheels count = > 18\naimStack top: [u'name', u'body type', u'wheels count']\nrulesStack top: rulesStack top: []\naimStack top: [u'name', u'body type']\nrulesStack top: ({u'wheels count': u'> 18', u'dagerous freight': u'no', u'class': u'truck', u'doors count': u'2'}, u'dump')\naimStack top: [u'name', u'body type', u'dagerous freight']\nrulesStack top: ({u'wheels count': u'> 18', u'dagerous freight': u'no', u'class': u'truck', u'doors count': u'2'}, u'dump')\n[LOG] Know:"
      },
      {
       "output_type": "stream",
       "stream": "stdout",
       "text": " dagerous freight = no\naimStack top: [u'name', u'body type', u'dagerous freight']\nrulesStack top: rulesStack top: []\naimStack top: [u'name', u'body type']\nrulesStack top: ({u'wheels count': u'> 18', u'dagerous freight': u'no', u'class': u'truck', u'doors count': u'2'}, u'dump')\nFALSE For the top rule. Drop it\naimStack top: [u'name', u'body type']\nrulesStack top: ({u'wheels count': u'> 18', u'dagerous freight': u'yes', u'class': u'truck', u'doors count': u'2'}, u'tanker')\nFALSE For the top rule. Drop it\n[LOG] Don't know\n"
      }
     ],
     "prompt_number": 117
    },
    {
     "cell_type": "code",
     "collapsed": false,
     "input": "",
     "language": "python",
     "metadata": {},
     "outputs": [],
     "prompt_number": 93
    },
    {
     "cell_type": "code",
     "collapsed": false,
     "input": "",
     "language": "python",
     "metadata": {},
     "outputs": []
    }
   ],
   "metadata": {}
  }
 ]
}